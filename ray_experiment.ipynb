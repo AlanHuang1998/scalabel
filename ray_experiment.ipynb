{
 "cells": [
  {
   "cell_type": "code",
   "execution_count": 1,
   "metadata": {
    "scrolled": true
   },
   "outputs": [
    {
     "name": "stderr",
     "output_type": "stream",
     "text": [
      "Process STDOUT and STDERR is being redirected to /tmp/raylogs/.\n",
      "Waiting for redis server at 127.0.0.1:45057 to respond...\n",
      "Waiting for redis server at 127.0.0.1:13561 to respond...\n",
      "Starting the Plasma object store with 6.00 GB memory.\n",
      "Starting local scheduler with the following resources: {'CPU': 64, 'GPU': 0}.\n",
      "\n",
      "======================================================================\n",
      "View the web UI at http://localhost:8889/notebooks/ray_ui8783.ipynb?token=9e9a4abbc91a0114a9f3b355b1bcaca617ee3f45f3c052aa\n",
      "======================================================================\n",
      "\n"
     ]
    }
   ],
   "source": [
    "from __future__ import absolute_import\n",
    "from __future__ import division\n",
    "from __future__ import print_function\n",
    "\n",
    "import numpy as np\n",
    "import ray\n",
    "import time\n",
    "\n",
    "\"\"\"\n",
    "ray actor experiment description:\n",
    "    creates 'num_actors' ray actors\n",
    "    for n from 1 to 'num_actors', with step size 'actor_step_size':\n",
    "        run n of the actors in parallel, each doing 'num_operations' operations\n",
    "        record the time it takes\n",
    "    graph time vs n\n",
    "to test for different 'num_cpus' options, must restart notebook because cannot call ray.init twice\n",
    "\"\"\"\n",
    "\n",
    "#experiment parameters\n",
    "num_cpus = 64\n",
    "\n",
    "#num_actors: set to see behavior as num_actors exceeds a multiple of num_cpus\n",
    "num_actors = num_cpus + 20 \n",
    "#num_actors = num_cpus * 20 + 20\n",
    "\n",
    "#actor_step_size: on each step, run this many more actors simultaneously\n",
    "#for larger num_cpus, should decrease this so tests do not run forever\n",
    "actor_step_size = 8 \n",
    "\n",
    "num_operations = 5\n",
    "\n",
    "ray.init(num_cpus=num_cpus, ignore_reinit_error=True)\n",
    "@ray.remote\n",
    "class TestActor(object):\n",
    "    def __init__(self):\n",
    "        self.counter = 0\n",
    "\n",
    "    def reset(self):\n",
    "        self.counter = 0\n",
    "\n",
    "    def increment(self):\n",
    "        time.sleep(0.5)\n",
    "        self.counter += 1\n",
    "        return self.counter"
   ]
  },
  {
   "cell_type": "code",
   "execution_count": 3,
   "metadata": {},
   "outputs": [
    {
     "name": "stderr",
     "output_type": "stream",
     "text": [
      "The actor with ID 871e5649ac2c9e962a97aa7fe66bd53fa9bbc8d1 is taking a while to be created. It is possible that the cluster does not have enough resources to place this actor (this may be normal while an autoscaling is scaling up). Consider reducing the number of actors created, or increasing the number of slots available by using the --num-cpus, --num-gpus, and --resources flags. The actor creation task is requesting 0 CPU \n",
      "The actor with ID 957e7fbcdd0cc067d3d5fb70dbf6370b09267d0e is taking a while to be created. It is possible that the cluster does not have enough resources to place this actor (this may be normal while an autoscaling is scaling up). Consider reducing the number of actors created, or increasing the number of slots available by using the --num-cpus, --num-gpus, and --resources flags. The actor creation task is requesting 0 CPU \n"
     ]
    }
   ],
   "source": [
    "number_curr_actors = [int(i*actor_step_size) for i in range(1, int(num_actors/actor_step_size))]\n",
    "ray_actors = [TestActor.remote() for i in range(num_actors)]\n",
    "time.sleep(15) # make sure the actors are all instantiated before running the tests\n",
    "times = []\n",
    "for n in number_curr_actors:\n",
    "    curr_ray_actors = ray_actors[:n]\n",
    "    \n",
    "    for curr_actor in curr_ray_actors:\n",
    "        curr_actor.reset.remote()\n",
    "\n",
    "    results = []\n",
    "    for _ in range(num_operations):\n",
    "        for curr_actor in curr_ray_actors:\n",
    "            results.append(curr_actor.increment.remote())\n",
    "    start_time = time.time()\n",
    "    results = ray.get(results)\n",
    "    duration = time.time() - start_time\n",
    "    times.append(duration)"
   ]
  },
  {
   "cell_type": "code",
   "execution_count": 5,
   "metadata": {},
   "outputs": [
    {
     "data": {
      "text/plain": [
       "<matplotlib.text.Text at 0x10f69d5c0>"
      ]
     },
     "execution_count": 5,
     "metadata": {},
     "output_type": "execute_result"
    },
    {
     "data": {
      "image/png": "[encoded data removed]",
      "text/plain": [
       "<matplotlib.figure.Figure at 0x10f341940>"
      ]
     },
     "metadata": {},
     "output_type": "display_data"
    }
   ],
   "source": [
    "import matplotlib.pyplot as plt\n",
    "%matplotlib inline\n",
    "plt.scatter(number_curr_actors, times)\n",
    "plt.xticks(number_curr_actors[::2])\n",
    "plt.xlabel(\"Number of ray actors\")\n",
    "plt.ylabel(\"Time (seconds)\")\n",
    "plt.title(\"Time to run remote function\" + str(num_operations) + \"times on each actor\")"
   ]
  },
  {
   "cell_type": "code",
   "execution_count": null,
   "metadata": {},
   "outputs": [],
   "source": []
  }
 ],
 "metadata": {
  "kernelspec": {
   "display_name": "Python 3",
   "language": "python",
   "name": "python3"
  },
  "language_info": {
   "codemirror_mode": {
    "name": "ipython",
    "version": 3
   },
   "file_extension": ".py",
   "mimetype": "text/x-python",
   "name": "python",
   "nbconvert_exporter": "python",
   "pygments_lexer": "ipython3",
   "version": "3.6.2"
  }
 },
 "nbformat": 4,
 "nbformat_minor": 2
}
